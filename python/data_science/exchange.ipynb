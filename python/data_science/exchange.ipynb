{
 "cells": [
  {
   "cell_type": "code",
   "execution_count": null,
   "id": "e77ce9f4",
   "metadata": {},
   "outputs": [],
   "source": [
    "import pandas as pd\n",
    "import datetime as dt"
   ]
  },
  {
   "cell_type": "code",
   "execution_count": 37,
   "id": "f3a82385",
   "metadata": {},
   "outputs": [
    {
     "data": {
      "text/html": [
       "<div>\n",
       "<style scoped>\n",
       "    .dataframe tbody tr th:only-of-type {\n",
       "        vertical-align: middle;\n",
       "    }\n",
       "\n",
       "    .dataframe tbody tr th {\n",
       "        vertical-align: top;\n",
       "    }\n",
       "\n",
       "    .dataframe thead th {\n",
       "        text-align: right;\n",
       "    }\n",
       "</style>\n",
       "<table border=\"1\" class=\"dataframe\">\n",
       "  <thead>\n",
       "    <tr style=\"text-align: right;\">\n",
       "      <th></th>\n",
       "      <th>&lt;DATE&gt;</th>\n",
       "      <th>&lt;TIME&gt;</th>\n",
       "      <th>&lt;OPEN&gt;</th>\n",
       "      <th>&lt;HIGH&gt;</th>\n",
       "      <th>&lt;LOW&gt;</th>\n",
       "      <th>&lt;CLOSE&gt;</th>\n",
       "      <th>&lt;VOL&gt;</th>\n",
       "    </tr>\n",
       "  </thead>\n",
       "  <tbody>\n",
       "    <tr>\n",
       "      <th>0</th>\n",
       "      <td>01.09.2020</td>\n",
       "      <td>10:00:00</td>\n",
       "      <td>113442</td>\n",
       "      <td>115111</td>\n",
       "      <td>108072</td>\n",
       "      <td>110392</td>\n",
       "      <td>43</td>\n",
       "    </tr>\n",
       "    <tr>\n",
       "      <th>1</th>\n",
       "      <td>01.09.2020</td>\n",
       "      <td>10:01:00</td>\n",
       "      <td>112039</td>\n",
       "      <td>115127</td>\n",
       "      <td>108236</td>\n",
       "      <td>108851</td>\n",
       "      <td>35</td>\n",
       "    </tr>\n",
       "    <tr>\n",
       "      <th>2</th>\n",
       "      <td>01.09.2020</td>\n",
       "      <td>10:02:00</td>\n",
       "      <td>109658</td>\n",
       "      <td>115220</td>\n",
       "      <td>108046</td>\n",
       "      <td>109189</td>\n",
       "      <td>41</td>\n",
       "    </tr>\n",
       "    <tr>\n",
       "      <th>3</th>\n",
       "      <td>01.09.2020</td>\n",
       "      <td>10:03:00</td>\n",
       "      <td>111819</td>\n",
       "      <td>115172</td>\n",
       "      <td>107935</td>\n",
       "      <td>112804</td>\n",
       "      <td>7</td>\n",
       "    </tr>\n",
       "    <tr>\n",
       "      <th>4</th>\n",
       "      <td>01.09.2020</td>\n",
       "      <td>10:04:00</td>\n",
       "      <td>108579</td>\n",
       "      <td>115139</td>\n",
       "      <td>108027</td>\n",
       "      <td>109616</td>\n",
       "      <td>84</td>\n",
       "    </tr>\n",
       "  </tbody>\n",
       "</table>\n",
       "</div>"
      ],
      "text/plain": [
       "       <DATE>    <TIME>  <OPEN>  <HIGH>   <LOW>  <CLOSE>  <VOL>\n",
       "0  01.09.2020  10:00:00  113442  115111  108072   110392     43\n",
       "1  01.09.2020  10:01:00  112039  115127  108236   108851     35\n",
       "2  01.09.2020  10:02:00  109658  115220  108046   109189     41\n",
       "3  01.09.2020  10:03:00  111819  115172  107935   112804      7\n",
       "4  01.09.2020  10:04:00  108579  115139  108027   109616     84"
      ]
     },
     "execution_count": 37,
     "metadata": {},
     "output_type": "execute_result"
    }
   ],
   "source": [
    "df = pd.read_csv(\"./data.csv\")\n",
    "df.head()\n"
   ]
  },
  {
   "cell_type": "code",
   "execution_count": 38,
   "id": "e2ed8b34",
   "metadata": {},
   "outputs": [
    {
     "data": {
      "text/html": [
       "<div>\n",
       "<style scoped>\n",
       "    .dataframe tbody tr th:only-of-type {\n",
       "        vertical-align: middle;\n",
       "    }\n",
       "\n",
       "    .dataframe tbody tr th {\n",
       "        vertical-align: top;\n",
       "    }\n",
       "\n",
       "    .dataframe thead th {\n",
       "        text-align: right;\n",
       "    }\n",
       "</style>\n",
       "<table border=\"1\" class=\"dataframe\">\n",
       "  <thead>\n",
       "    <tr style=\"text-align: right;\">\n",
       "      <th></th>\n",
       "      <th>&lt;DATE&gt;</th>\n",
       "      <th>&lt;TIME&gt;</th>\n",
       "      <th>&lt;OPEN&gt;</th>\n",
       "      <th>&lt;HIGH&gt;</th>\n",
       "      <th>&lt;LOW&gt;</th>\n",
       "      <th>&lt;CLOSE&gt;</th>\n",
       "      <th>&lt;VOL&gt;</th>\n",
       "      <th>AVG</th>\n",
       "      <th>TOTAL</th>\n",
       "    </tr>\n",
       "  </thead>\n",
       "  <tbody>\n",
       "    <tr>\n",
       "      <th>0</th>\n",
       "      <td>2020-09-01</td>\n",
       "      <td>10:00:00</td>\n",
       "      <td>113442</td>\n",
       "      <td>115111</td>\n",
       "      <td>108072</td>\n",
       "      <td>110392</td>\n",
       "      <td>43</td>\n",
       "      <td>111754.25</td>\n",
       "      <td>4805432.75</td>\n",
       "    </tr>\n",
       "    <tr>\n",
       "      <th>1</th>\n",
       "      <td>2020-09-01</td>\n",
       "      <td>10:01:00</td>\n",
       "      <td>112039</td>\n",
       "      <td>115127</td>\n",
       "      <td>108236</td>\n",
       "      <td>108851</td>\n",
       "      <td>35</td>\n",
       "      <td>111063.25</td>\n",
       "      <td>3887213.75</td>\n",
       "    </tr>\n",
       "    <tr>\n",
       "      <th>2</th>\n",
       "      <td>2020-09-01</td>\n",
       "      <td>10:02:00</td>\n",
       "      <td>109658</td>\n",
       "      <td>115220</td>\n",
       "      <td>108046</td>\n",
       "      <td>109189</td>\n",
       "      <td>41</td>\n",
       "      <td>110528.25</td>\n",
       "      <td>4531658.25</td>\n",
       "    </tr>\n",
       "    <tr>\n",
       "      <th>3</th>\n",
       "      <td>2020-09-01</td>\n",
       "      <td>10:03:00</td>\n",
       "      <td>111819</td>\n",
       "      <td>115172</td>\n",
       "      <td>107935</td>\n",
       "      <td>112804</td>\n",
       "      <td>7</td>\n",
       "      <td>111932.50</td>\n",
       "      <td>783527.50</td>\n",
       "    </tr>\n",
       "    <tr>\n",
       "      <th>4</th>\n",
       "      <td>2020-09-01</td>\n",
       "      <td>10:04:00</td>\n",
       "      <td>108579</td>\n",
       "      <td>115139</td>\n",
       "      <td>108027</td>\n",
       "      <td>109616</td>\n",
       "      <td>84</td>\n",
       "      <td>110340.25</td>\n",
       "      <td>9268581.00</td>\n",
       "    </tr>\n",
       "  </tbody>\n",
       "</table>\n",
       "</div>"
      ],
      "text/plain": [
       "      <DATE>    <TIME>  <OPEN>  <HIGH>   <LOW>  <CLOSE>  <VOL>        AVG  \\\n",
       "0 2020-09-01  10:00:00  113442  115111  108072   110392     43  111754.25   \n",
       "1 2020-09-01  10:01:00  112039  115127  108236   108851     35  111063.25   \n",
       "2 2020-09-01  10:02:00  109658  115220  108046   109189     41  110528.25   \n",
       "3 2020-09-01  10:03:00  111819  115172  107935   112804      7  111932.50   \n",
       "4 2020-09-01  10:04:00  108579  115139  108027   109616     84  110340.25   \n",
       "\n",
       "        TOTAL  \n",
       "0  4805432.75  \n",
       "1  3887213.75  \n",
       "2  4531658.25  \n",
       "3   783527.50  \n",
       "4  9268581.00  "
      ]
     },
     "execution_count": 38,
     "metadata": {},
     "output_type": "execute_result"
    }
   ],
   "source": [
    "df['AVG'] = (df['<OPEN>'] + df['<HIGH>'] + df['<LOW>'] + df['<CLOSE>']) / 4\n",
    "df[\"<DATE>\"] = pd.to_datetime(df[\"<DATE>\"], format=\"%d.%m.%Y\")\n",
    "df['TOTAL'] = df['AVG'] * df['<VOL>']\n",
    "\n",
    "df.head()"
   ]
  },
  {
   "cell_type": "code",
   "execution_count": 45,
   "id": "86be1a58",
   "metadata": {},
   "outputs": [
    {
     "data": {
      "text/html": [
       "<div>\n",
       "<style scoped>\n",
       "    .dataframe tbody tr th:only-of-type {\n",
       "        vertical-align: middle;\n",
       "    }\n",
       "\n",
       "    .dataframe tbody tr th {\n",
       "        vertical-align: top;\n",
       "    }\n",
       "\n",
       "    .dataframe thead th {\n",
       "        text-align: right;\n",
       "    }\n",
       "</style>\n",
       "<table border=\"1\" class=\"dataframe\">\n",
       "  <thead>\n",
       "    <tr style=\"text-align: right;\">\n",
       "      <th></th>\n",
       "      <th>&lt;DATE&gt;</th>\n",
       "      <th>&lt;TIME&gt;</th>\n",
       "      <th>&lt;OPEN&gt;</th>\n",
       "      <th>&lt;HIGH&gt;</th>\n",
       "      <th>&lt;LOW&gt;</th>\n",
       "      <th>&lt;CLOSE&gt;</th>\n",
       "      <th>&lt;VOL&gt;</th>\n",
       "      <th>AVG</th>\n",
       "      <th>TOTAL</th>\n",
       "    </tr>\n",
       "  </thead>\n",
       "  <tbody>\n",
       "    <tr>\n",
       "      <th>27393</th>\n",
       "      <td>2020-11-04</td>\n",
       "      <td>10:16:00</td>\n",
       "      <td>108723</td>\n",
       "      <td>115275</td>\n",
       "      <td>107915</td>\n",
       "      <td>113069</td>\n",
       "      <td>22</td>\n",
       "      <td>111245.5</td>\n",
       "      <td>2447401.0</td>\n",
       "    </tr>\n",
       "  </tbody>\n",
       "</table>\n",
       "</div>"
      ],
      "text/plain": [
       "          <DATE>    <TIME>  <OPEN>  <HIGH>   <LOW>  <CLOSE>  <VOL>       AVG  \\\n",
       "27393 2020-11-04  10:16:00  108723  115275  107915   113069     22  111245.5   \n",
       "\n",
       "           TOTAL  \n",
       "27393  2447401.0  "
      ]
     },
     "execution_count": 45,
     "metadata": {},
     "output_type": "execute_result"
    }
   ],
   "source": [
    "date = dt.datetime(2020, 11, 4)\n",
    "df[(df[\"<DATE>\"] == date) & (df[\"<TIME>\"] == \"10:16:00\")]"
   ]
  },
  {
   "cell_type": "code",
   "execution_count": 40,
   "id": "0d5c1c8f",
   "metadata": {},
   "outputs": [
    {
     "data": {
      "text/html": [
       "<div>\n",
       "<style scoped>\n",
       "    .dataframe tbody tr th:only-of-type {\n",
       "        vertical-align: middle;\n",
       "    }\n",
       "\n",
       "    .dataframe tbody tr th {\n",
       "        vertical-align: top;\n",
       "    }\n",
       "\n",
       "    .dataframe thead th {\n",
       "        text-align: right;\n",
       "    }\n",
       "</style>\n",
       "<table border=\"1\" class=\"dataframe\">\n",
       "  <thead>\n",
       "    <tr style=\"text-align: right;\">\n",
       "      <th></th>\n",
       "      <th>&lt;DATE&gt;</th>\n",
       "      <th>&lt;TIME&gt;</th>\n",
       "      <th>&lt;OPEN&gt;</th>\n",
       "      <th>&lt;HIGH&gt;</th>\n",
       "      <th>&lt;LOW&gt;</th>\n",
       "      <th>&lt;CLOSE&gt;</th>\n",
       "      <th>&lt;VOL&gt;</th>\n",
       "      <th>AVG</th>\n",
       "      <th>TOTAL</th>\n",
       "    </tr>\n",
       "  </thead>\n",
       "  <tbody>\n",
       "    <tr>\n",
       "      <th>6201</th>\n",
       "      <td>2020-09-15</td>\n",
       "      <td>14:20:00</td>\n",
       "      <td>110487</td>\n",
       "      <td>114987</td>\n",
       "      <td>108063</td>\n",
       "      <td>114919</td>\n",
       "      <td>22</td>\n",
       "      <td>112114.0</td>\n",
       "      <td>2466508.0</td>\n",
       "    </tr>\n",
       "  </tbody>\n",
       "</table>\n",
       "</div>"
      ],
      "text/plain": [
       "         <DATE>    <TIME>  <OPEN>  <HIGH>   <LOW>  <CLOSE>  <VOL>       AVG  \\\n",
       "6201 2020-09-15  14:20:00  110487  114987  108063   114919     22  112114.0   \n",
       "\n",
       "          TOTAL  \n",
       "6201  2466508.0  "
      ]
     },
     "execution_count": 40,
     "metadata": {},
     "output_type": "execute_result"
    }
   ],
   "source": [
    "date = dt.datetime(2020, 9, 15)\n",
    "df[(df[\"<DATE>\"] == date) & (df[\"<TIME>\"] == \"14:20:00\")]"
   ]
  },
  {
   "cell_type": "code",
   "execution_count": null,
   "id": "4afb7e4f",
   "metadata": {},
   "outputs": [
    {
     "data": {
      "text/plain": [
       "np.float64(3340929396.75)"
      ]
     },
     "execution_count": 41,
     "metadata": {},
     "output_type": "execute_result"
    }
   ],
   "source": [
    "date = dt.datetime(2020, 10, 1)\n",
    "df[df[\"<DATE>\"] == date][\"TOTAL\"].sum()"
   ]
  },
  {
   "cell_type": "code",
   "execution_count": null,
   "id": "5c581a94",
   "metadata": {},
   "outputs": [
    {
     "data": {
      "text/plain": [
       "305"
      ]
     },
     "execution_count": 46,
     "metadata": {},
     "output_type": "execute_result"
    }
   ],
   "source": [
    "date = dt.datetime(2020, 12, 22)\n",
    "df[(df[\"<DATE>\"] == date) & (df[\"<OPEN>\"] < df[\"<CLOSE>\"])].shape[0]"
   ]
  },
  {
   "cell_type": "code",
   "execution_count": null,
   "id": "06264248",
   "metadata": {},
   "outputs": [
    {
     "data": {
      "text/plain": [
       "np.float64(13059838111.25)"
      ]
     },
     "execution_count": 47,
     "metadata": {},
     "output_type": "execute_result"
    }
   ],
   "source": [
    "dates = pd.date_range(start=\"2020-11-01\", end=\"2020-11-30\", freq=\"W-THU\")\n",
    "df[df[\"<DATE>\"].isin(dates)][\"TOTAL\"].sum()"
   ]
  }
 ],
 "metadata": {
  "kernelspec": {
   "display_name": ".venv",
   "language": "python",
   "name": "python3"
  },
  "language_info": {
   "codemirror_mode": {
    "name": "ipython",
    "version": 3
   },
   "file_extension": ".py",
   "mimetype": "text/x-python",
   "name": "python",
   "nbconvert_exporter": "python",
   "pygments_lexer": "ipython3",
   "version": "3.12.3"
  }
 },
 "nbformat": 4,
 "nbformat_minor": 5
}
