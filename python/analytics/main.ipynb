{
 "cells": [
  {
   "cell_type": "code",
   "id": "initial_id",
   "metadata": {
    "collapsed": true
   },
   "source": [
    "import pandas as pd\n",
    "import numpy as np"
   ],
   "outputs": [],
   "execution_count": null
  },
  {
   "metadata": {},
   "cell_type": "code",
   "source": "data = pd.read_csv('bus_movements.csv')",
   "id": "4c20f21290fa40df",
   "outputs": [],
   "execution_count": null
  },
  {
   "metadata": {},
   "cell_type": "code",
   "source": "data.head()",
   "id": "b83569fab3f7d676",
   "outputs": [],
   "execution_count": null
  },
  {
   "metadata": {},
   "cell_type": "code",
   "source": [
    "time_columns = ['Рейс 1', 'Рейс 2', 'Рейс 3', 'Рейс 4']\n",
    "data[time_columns] = data[time_columns].replace(\"00:00:00\", np.nan)\n",
    "data.head()"
   ],
   "id": "53ac7bf393e27a0f",
   "outputs": [],
   "execution_count": null
  },
  {
   "metadata": {},
   "cell_type": "code",
   "source": "missing = data[data['Рейс 4'].isna()]",
   "id": "54c1ce98cd9381c",
   "outputs": [],
   "execution_count": null
  },
  {
   "metadata": {
    "ExecuteTime": {
     "end_time": "2025-04-15T17:29:42.773267Z",
     "start_time": "2025-04-15T17:29:42.765703Z"
    }
   },
   "cell_type": "code",
   "source": [
    "print(\"Точки с пропущенным временем Рейса 4:\")\n",
    "print(missing[['Точка маршрута']].to_string(index=False))"
   ],
   "id": "c9491efb284bb21f",
   "outputs": [
    {
     "name": "stdout",
     "output_type": "stream",
     "text": [
      "Точки с пропущенным временем Рейса 4:\n",
      "                           Точка маршрута\n",
      "              МУЗЕЙ ГОРОДСКОГО ТРАНСПОРТА\n",
      "                            12-13-Я ЛИНИИ\n",
      "                 МЕТРО \"ВАСИЛЕОСТРОВСКАЯ\"\n",
      "                    1-Я И КАДЕТСКАЯ ЛИНИИ\n",
      "1-Я И КАДЕТСКАЯ ЛИНИИ. МЕТРО \"СПОРТИВНАЯ\"\n"
     ]
    }
   ],
   "execution_count": 23
  },
  {
   "metadata": {},
   "cell_type": "markdown",
   "source": "",
   "id": "d9df77c86bf5f9a3"
  }
 ],
 "metadata": {
  "kernelspec": {
   "display_name": "Python 3",
   "language": "python",
   "name": "python3"
  },
  "language_info": {
   "codemirror_mode": {
    "name": "ipython",
    "version": 2
   },
   "file_extension": ".py",
   "mimetype": "text/x-python",
   "name": "python",
   "nbconvert_exporter": "python",
   "pygments_lexer": "ipython2",
   "version": "2.7.6"
  }
 },
 "nbformat": 4,
 "nbformat_minor": 5
}
