{
 "cells": [
  {
   "cell_type": "code",
   "execution_count": 45,
   "id": "initial_id",
   "metadata": {
    "collapsed": true,
    "ExecuteTime": {
     "end_time": "2023-08-21T18:33:26.468579531Z",
     "start_time": "2023-08-21T18:33:26.461842665Z"
    }
   },
   "outputs": [],
   "source": [
    "import pandas as pd\n",
    "import numpy as np\n",
    "import re"
   ]
  },
  {
   "cell_type": "code",
   "execution_count": 50,
   "outputs": [],
   "source": [
    "dates = np.array([\"2019-01-01\", \"2019-11-01\", \"2019-11-02\", \"2019-11-03\", \"2019-12-05\"])\n",
    "temperatures = np.array([5, 7, 26, 13, 15])\n",
    "looking_month = 11"
   ],
   "metadata": {
    "collapsed": false,
    "ExecuteTime": {
     "end_time": "2023-08-21T18:38:25.063143188Z",
     "start_time": "2023-08-21T18:38:25.018181320Z"
    }
   },
   "id": "9f0a49b53f100373"
  },
  {
   "cell_type": "code",
   "execution_count": 55,
   "outputs": [
    {
     "name": "stdout",
     "output_type": "stream",
     "text": [
      "2019-11-01     7\n",
      "2019-11-02    26\n",
      "2019-11-03    13\n",
      "dtype: int64\n"
     ]
    }
   ],
   "source": [
    "if len(looking_month) == 1:\n",
    "    looking_month = f'0{looking_month}'\n",
    "    \n",
    "pattern = f\"\\d*-{looking_month}-\\d*\"\n",
    "result = [x for x in dates if re.search(pattern, x)]\n",
    "\n",
    "series = pd.Series(temperatures, index=dates)\n",
    "series = series[result]\n",
    "print(series)"
   ],
   "metadata": {
    "collapsed": false,
    "ExecuteTime": {
     "end_time": "2023-08-21T18:41:23.141645070Z",
     "start_time": "2023-08-21T18:41:23.135492912Z"
    }
   },
   "id": "13be74f8ee2ca1ca"
  }
 ],
 "metadata": {
  "kernelspec": {
   "display_name": "Python 3",
   "language": "python",
   "name": "python3"
  },
  "language_info": {
   "codemirror_mode": {
    "name": "ipython",
    "version": 2
   },
   "file_extension": ".py",
   "mimetype": "text/x-python",
   "name": "python",
   "nbconvert_exporter": "python",
   "pygments_lexer": "ipython2",
   "version": "2.7.6"
  }
 },
 "nbformat": 4,
 "nbformat_minor": 5
}
