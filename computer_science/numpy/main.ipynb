{
 "cells": [
  {
   "cell_type": "code",
   "execution_count": 4,
   "id": "initial_id",
   "metadata": {
    "collapsed": true,
    "ExecuteTime": {
     "end_time": "2023-08-13T16:45:52.749295134Z",
     "start_time": "2023-08-13T16:45:52.634082037Z"
    }
   },
   "outputs": [],
   "source": [
    "import numpy as np\n",
    "import datetime as dt"
   ]
  },
  {
   "cell_type": "code",
   "execution_count": 5,
   "outputs": [],
   "source": [
    "def read_array(data, dtype=None, sep=\" \") -> np.ndarray:\n",
    "    return np.fromstring(data, dtype, sep=sep)"
   ],
   "metadata": {
    "collapsed": false,
    "ExecuteTime": {
     "end_time": "2023-08-13T16:45:54.056568337Z",
     "start_time": "2023-08-13T16:45:54.054017201Z"
    }
   },
   "id": "ac7bd9e2a83df9cd"
  },
  {
   "cell_type": "code",
   "execution_count": 31,
   "outputs": [],
   "source": [
    "angles = \"53.5 43.7 9.8 46.6 61.5 5.7 38.2 29.5 15.8 8.1 58.1 14.8 20.8 16.9 43.8 29.5 20.3 18.8 7.2 62.1 31.0 8.7 30.4 11.2 22.8 35.6 15.6\"\n",
    "height = \"14\""
   ],
   "metadata": {
    "collapsed": false,
    "ExecuteTime": {
     "end_time": "2023-08-13T17:00:40.509750639Z",
     "start_time": "2023-08-13T17:00:40.505896354Z"
    }
   },
   "id": "22752125fc0249d0"
  },
  {
   "cell_type": "code",
   "execution_count": 34,
   "outputs": [
    {
     "name": "stdout",
     "output_type": "stream",
     "text": [
      "[13.073 10.678  2.395 11.387 15.027  1.393  9.334  7.208  3.861  1.979\n",
      " 14.197  3.616  5.082  4.129 10.702  7.208  4.96   4.594  1.759 15.174\n",
      "  7.575  2.126  7.428  2.737  5.571  8.699  3.812]\n"
     ]
    }
   ],
   "source": [
    "\n",
    "angles_array = np.deg2rad(np.fromstring(angles, dtype=float, sep=\" \"))\n",
    "\n",
    "shadows = np.multiply(angles_array, int(height))\n",
    "\n",
    "print(np.round(shadows, 3))\n"
   ],
   "metadata": {
    "collapsed": false,
    "ExecuteTime": {
     "end_time": "2023-08-13T17:01:27.821495916Z",
     "start_time": "2023-08-13T17:01:27.813738882Z"
    }
   },
   "id": "63b0edd35984d534"
  }
 ],
 "metadata": {
  "kernelspec": {
   "display_name": "Python 3",
   "language": "python",
   "name": "python3"
  },
  "language_info": {
   "codemirror_mode": {
    "name": "ipython",
    "version": 2
   },
   "file_extension": ".py",
   "mimetype": "text/x-python",
   "name": "python",
   "nbconvert_exporter": "python",
   "pygments_lexer": "ipython2",
   "version": "2.7.6"
  }
 },
 "nbformat": 4,
 "nbformat_minor": 5
}
