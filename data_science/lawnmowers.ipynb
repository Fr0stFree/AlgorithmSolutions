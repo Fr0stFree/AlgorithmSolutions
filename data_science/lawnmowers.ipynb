{
 "cells": [
  {
   "cell_type": "code",
   "execution_count": null,
   "id": "aa4625b6",
   "metadata": {},
   "outputs": [],
   "source": [
    "import pandas as pd\n",
    "import numpy as np\n",
    "import re"
   ]
  },
  {
   "cell_type": "code",
   "execution_count": 108,
   "id": "a4d370ee",
   "metadata": {},
   "outputs": [
    {
     "data": {
      "text/html": [
       "<div>\n",
       "<style scoped>\n",
       "    .dataframe tbody tr th:only-of-type {\n",
       "        vertical-align: middle;\n",
       "    }\n",
       "\n",
       "    .dataframe tbody tr th {\n",
       "        vertical-align: top;\n",
       "    }\n",
       "\n",
       "    .dataframe thead th {\n",
       "        text-align: right;\n",
       "    }\n",
       "</style>\n",
       "<table border=\"1\" class=\"dataframe\">\n",
       "  <thead>\n",
       "    <tr style=\"text-align: right;\">\n",
       "      <th></th>\n",
       "      <th>NAME</th>\n",
       "      <th>WIDTH</th>\n",
       "      <th>PRICE</th>\n",
       "      <th>POWER</th>\n",
       "      <th>GRASS</th>\n",
       "      <th>AREA</th>\n",
       "      <th>DESCRIPTION</th>\n",
       "    </tr>\n",
       "  </thead>\n",
       "  <tbody>\n",
       "    <tr>\n",
       "      <th>0</th>\n",
       "      <td>Bear CNR865</td>\n",
       "      <td>NaN</td>\n",
       "      <td>15000.0</td>\n",
       "      <td>0.75</td>\n",
       "      <td>70.0</td>\n",
       "      <td>550.0</td>\n",
       "      <td>Средняя ширина скашиваемой полосы на данной га...</td>\n",
       "    </tr>\n",
       "    <tr>\n",
       "      <th>1</th>\n",
       "      <td>Wolf MTB712</td>\n",
       "      <td>36.0</td>\n",
       "      <td>36000.0</td>\n",
       "      <td>0.90</td>\n",
       "      <td>35.0</td>\n",
       "      <td>550.0</td>\n",
       "      <td>Средняя ширина скашиваемой полосы на данной га...</td>\n",
       "    </tr>\n",
       "    <tr>\n",
       "      <th>2</th>\n",
       "      <td>Nakita IZP916</td>\n",
       "      <td>37.0</td>\n",
       "      <td>25000.0</td>\n",
       "      <td>1.40</td>\n",
       "      <td>NaN</td>\n",
       "      <td>300.0</td>\n",
       "      <td>Средняя ширина скашиваемой полосы на данной га...</td>\n",
       "    </tr>\n",
       "    <tr>\n",
       "      <th>3</th>\n",
       "      <td>Wolf HHQ968</td>\n",
       "      <td>38.0</td>\n",
       "      <td>14000.0</td>\n",
       "      <td>1.90</td>\n",
       "      <td>30.0</td>\n",
       "      <td>200.0</td>\n",
       "      <td>Средняя ширина скашиваемой полосы на данной га...</td>\n",
       "    </tr>\n",
       "    <tr>\n",
       "      <th>4</th>\n",
       "      <td>Worx BRL669</td>\n",
       "      <td>38.0</td>\n",
       "      <td>14000.0</td>\n",
       "      <td>1.00</td>\n",
       "      <td>55.0</td>\n",
       "      <td>500.0</td>\n",
       "      <td>Средняя ширина скашиваемой полосы на данной га...</td>\n",
       "    </tr>\n",
       "  </tbody>\n",
       "</table>\n",
       "</div>"
      ],
      "text/plain": [
       "            NAME  WIDTH    PRICE  POWER  GRASS   AREA  \\\n",
       "0    Bear CNR865    NaN  15000.0   0.75   70.0  550.0   \n",
       "1    Wolf MTB712   36.0  36000.0   0.90   35.0  550.0   \n",
       "2  Nakita IZP916   37.0  25000.0   1.40    NaN  300.0   \n",
       "3    Wolf HHQ968   38.0  14000.0   1.90   30.0  200.0   \n",
       "4    Worx BRL669   38.0  14000.0   1.00   55.0  500.0   \n",
       "\n",
       "                                         DESCRIPTION  \n",
       "0  Средняя ширина скашиваемой полосы на данной га...  \n",
       "1  Средняя ширина скашиваемой полосы на данной га...  \n",
       "2  Средняя ширина скашиваемой полосы на данной га...  \n",
       "3  Средняя ширина скашиваемой полосы на данной га...  \n",
       "4  Средняя ширина скашиваемой полосы на данной га...  "
      ]
     },
     "execution_count": 108,
     "metadata": {},
     "output_type": "execute_result"
    }
   ],
   "source": [
    "df = pd.read_csv('data/lawnmowers.csv')\n",
    "df.head()"
   ]
  },
  {
   "cell_type": "code",
   "execution_count": 109,
   "id": "166b8c2f",
   "metadata": {},
   "outputs": [
    {
     "name": "stdout",
     "output_type": "stream",
     "text": [
      "Median width: 32.0\n"
     ]
    },
    {
     "data": {
      "text/plain": [
       "WIDTH\n",
       "32.0     23\n",
       "38.0     18\n",
       "36.0     17\n",
       "39.0     17\n",
       "41.0     16\n",
       "31.0     12\n",
       "34.0     11\n",
       "37.0     11\n",
       "40.0     11\n",
       "42.0     11\n",
       "44.0     11\n",
       "43.0     10\n",
       "30.0      9\n",
       "35.0      7\n",
       "33.0      6\n",
       "Name: count, dtype: int64"
      ]
     },
     "execution_count": 109,
     "metadata": {},
     "output_type": "execute_result"
    }
   ],
   "source": [
    "pattern = r\"(?i)(узкий|узкая|узкие|узкой|узкую|узким|узким|узким|узким|узком|узком|узком|узком)\"\n",
    "df[\"IS_NARROW_WIDTH\"] = df[\"DESCRIPTION\"].apply(lambda text: 1 if re.search(pattern, text) else 0)\n",
    "df[[\"IS_NARROW_WIDTH\", \"DESCRIPTION\"]].value_counts()\n",
    "median_width = df.WIDTH[(df.WIDTH >= 30) & (df.WIDTH <= 35)].median()\n",
    "df.loc[(df.WIDTH.isna()) & (df.IS_NARROW_WIDTH == 1), \"WIDTH\"] = median_width\n",
    "df = df.drop(columns=[\"IS_NARROW_WIDTH\"])\n",
    "\n",
    "print(f\"Median width: {median_width}\")\n",
    "df[[\"WIDTH\"]].value_counts()"
   ]
  },
  {
   "cell_type": "code",
   "execution_count": 110,
   "metadata": {},
   "outputs": [
    {
     "name": "stdout",
     "output_type": "stream",
     "text": [
      "Median width: 38.0\n"
     ]
    },
    {
     "data": {
      "text/plain": [
       "WIDTH\n",
       "38.0     24\n",
       "32.0     23\n",
       "36.0     17\n",
       "39.0     17\n",
       "41.0     16\n",
       "31.0     12\n",
       "34.0     11\n",
       "37.0     11\n",
       "40.0     11\n",
       "42.0     11\n",
       "44.0     11\n",
       "43.0     10\n",
       "30.0      9\n",
       "35.0      7\n",
       "33.0      6\n",
       "Name: count, dtype: int64"
      ]
     },
     "execution_count": 110,
     "metadata": {},
     "output_type": "execute_result"
    }
   ],
   "source": [
    "pattern = r\"(?i)(средняя ширина|ширина средняя)\"\n",
    "df[\"IS_AVERAGE_WIDTH\"] = df[\"DESCRIPTION\"].apply(lambda text: 1 if re.search(pattern, text) else 0)\n",
    "df[[\"IS_AVERAGE_WIDTH\", \"DESCRIPTION\"]].value_counts()\n",
    "median_width = df.WIDTH[(df.WIDTH >= 36) & (df.WIDTH <= 40)].median()\n",
    "df.loc[(df.IS_AVERAGE_WIDTH == 1) & (df.WIDTH.isna()), \"WIDTH\"] = median_width\n",
    "df = df.drop(columns=[\"IS_AVERAGE_WIDTH\"])\n",
    "\n",
    "print(f\"Median width: {median_width}\")\n",
    "df[[\"WIDTH\"]].value_counts()"
   ]
  },
  {
   "cell_type": "code",
   "execution_count": 111,
   "id": "a357dd8c",
   "metadata": {},
   "outputs": [
    {
     "name": "stdout",
     "output_type": "stream",
     "text": [
      "Median width: 42.0\n"
     ]
    },
    {
     "data": {
      "text/plain": [
       "WIDTH\n",
       "38.0     24\n",
       "32.0     23\n",
       "36.0     17\n",
       "39.0     17\n",
       "41.0     16\n",
       "42.0     15\n",
       "31.0     12\n",
       "34.0     11\n",
       "37.0     11\n",
       "40.0     11\n",
       "44.0     11\n",
       "43.0     10\n",
       "30.0      9\n",
       "35.0      7\n",
       "33.0      6\n",
       "Name: count, dtype: int64"
      ]
     },
     "execution_count": 111,
     "metadata": {},
     "output_type": "execute_result"
    }
   ],
   "source": [
    "pattern = r\"(?i)(широкая|широкие|широких|широкой|широкую|широким|широким|широким|широким|широком|широком|широком|широком)\"\n",
    "df[\"IS_WIDE_STRIPES\"] = df[\"DESCRIPTION\"].apply(lambda text: 1 if re.search(pattern, text) else 0)\n",
    "df[[\"IS_WIDE_STRIPES\", \"DESCRIPTION\"]].value_counts()\n",
    "median_width = df.WIDTH[(df.WIDTH >= 41) & (df.WIDTH <= 45)].median()\n",
    "df.loc[(df.IS_WIDE_STRIPES == 1) & (df.WIDTH.isna()), \"WIDTH\"] = median_width\n",
    "df = df.drop(columns=[\"IS_WIDE_STRIPES\"])\n",
    "\n",
    "print(f\"Median width: {median_width}\")\n",
    "df[[\"WIDTH\"]].value_counts()"
   ]
  },
  {
   "cell_type": "code",
   "execution_count": null,
   "id": "321973d5",
   "metadata": {},
   "outputs": [
    {
     "name": "stdout",
     "output_type": "stream",
     "text": [
      "Mean width: 37.145\n"
     ]
    }
   ],
   "source": [
    "mean_area = df['WIDTH'].mean()\n",
    "print(f\"Mean width: {mean_area}\")"
   ]
  },
  {
   "cell_type": "code",
   "execution_count": 122,
   "id": "f78f6552",
   "metadata": {},
   "outputs": [
    {
     "name": "stdout",
     "output_type": "stream",
     "text": [
      "Mean price: 27876.404494382023\n",
      "          NAME  WIDTH    PRICE  POWER  GRASS   AREA  \\\n",
      "0  Bear CNR865   38.0  15000.0   0.75   70.0  550.0   \n",
      "1  Wolf MTB712   36.0  36000.0   0.90   35.0  550.0   \n",
      "3  Wolf HHQ968   38.0  14000.0   1.90   30.0  200.0   \n",
      "4  Worx BRL669   38.0  14000.0   1.00   55.0  500.0   \n",
      "5  Worx HZX136   32.0  26000.0   1.80   50.0  600.0   \n",
      "\n",
      "                                         DESCRIPTION  \n",
      "0  Средняя ширина скашиваемой полосы на данной га...  \n",
      "1  Средняя ширина скашиваемой полосы на данной га...  \n",
      "3  Средняя ширина скашиваемой полосы на данной га...  \n",
      "4  Средняя ширина скашиваемой полосы на данной га...  \n",
      "5  Новая газонокосилка имеет узкую ширину скашива...  \n"
     ]
    }
   ],
   "source": [
    "Q1 = df[\"PRICE\"].quantile(0.25)\n",
    "Q3 = df[\"PRICE\"].quantile(0.75)\n",
    "IQR = Q3 - Q1\n",
    "\n",
    "lower_bound = Q1 - 1.5 * IQR\n",
    "upper_bound = Q3 + 1.5 * IQR\n",
    "\n",
    "df_filtered = df[(df[\"PRICE\"] >= lower_bound) & (df[\"PRICE\"] <= upper_bound)]\n",
    "\n",
    "df_cleaned = df_filtered.dropna()\n",
    "\n",
    "print(f\"Mean price: {df_cleaned['PRICE'].mean()}\")\n",
    "print(df_cleaned.head())"
   ]
  },
  {
   "cell_type": "code",
   "execution_count": 129,
   "id": "45f53755",
   "metadata": {},
   "outputs": [
    {
     "data": {
      "text/html": [
       "<div>\n",
       "<style scoped>\n",
       "    .dataframe tbody tr th:only-of-type {\n",
       "        vertical-align: middle;\n",
       "    }\n",
       "\n",
       "    .dataframe tbody tr th {\n",
       "        vertical-align: top;\n",
       "    }\n",
       "\n",
       "    .dataframe thead th {\n",
       "        text-align: right;\n",
       "    }\n",
       "</style>\n",
       "<table border=\"1\" class=\"dataframe\">\n",
       "  <thead>\n",
       "    <tr style=\"text-align: right;\">\n",
       "      <th></th>\n",
       "      <th>NAME</th>\n",
       "      <th>WIDTH</th>\n",
       "      <th>PRICE</th>\n",
       "      <th>POWER</th>\n",
       "      <th>GRASS</th>\n",
       "      <th>AREA</th>\n",
       "      <th>DESCRIPTION</th>\n",
       "      <th>WIDTH_NORM</th>\n",
       "      <th>PRICE_NORM</th>\n",
       "      <th>POWER_NORM</th>\n",
       "      <th>GRASS_NORM</th>\n",
       "      <th>AREA_NORM</th>\n",
       "    </tr>\n",
       "  </thead>\n",
       "  <tbody>\n",
       "    <tr>\n",
       "      <th>192</th>\n",
       "      <td>Cooper AIS883</td>\n",
       "      <td>43.0</td>\n",
       "      <td>24000.0</td>\n",
       "      <td>1.4</td>\n",
       "      <td>70.0</td>\n",
       "      <td>450.0</td>\n",
       "      <td>Широкая полоса скашивания на данной газонокоси...</td>\n",
       "      <td>0.351656</td>\n",
       "      <td>0.864665</td>\n",
       "      <td>0.57965</td>\n",
       "      <td>0.834701</td>\n",
       "      <td>0.713495</td>\n",
       "    </tr>\n",
       "  </tbody>\n",
       "</table>\n",
       "</div>"
      ],
      "text/plain": [
       "              NAME  WIDTH    PRICE  POWER  GRASS   AREA  \\\n",
       "192  Cooper AIS883   43.0  24000.0    1.4   70.0  450.0   \n",
       "\n",
       "                                           DESCRIPTION  WIDTH_NORM  \\\n",
       "192  Широкая полоса скашивания на данной газонокоси...    0.351656   \n",
       "\n",
       "     PRICE_NORM  POWER_NORM  GRASS_NORM  AREA_NORM  \n",
       "192    0.864665     0.57965    0.834701   0.713495  "
      ]
     },
     "execution_count": 129,
     "metadata": {},
     "output_type": "execute_result"
    }
   ],
   "source": [
    "def exponential_normalization(x):\n",
    "    return 1 - np.exp(1-(x / x.min()))\n",
    "\n",
    "df_norm = df_cleaned.copy()\n",
    "df_norm[\"WIDTH_NORM\"] = exponential_normalization(df_cleaned[\"WIDTH\"])\n",
    "df_norm[\"PRICE_NORM\"] = exponential_normalization(df_cleaned[\"PRICE\"])\n",
    "df_norm[\"POWER_NORM\"] = exponential_normalization(df_cleaned[\"POWER\"])\n",
    "df_norm[\"GRASS_NORM\"] = exponential_normalization(df_cleaned[\"GRASS\"])\n",
    "df_norm[\"AREA_NORM\"] = exponential_normalization(df_cleaned[\"AREA\"])\n",
    "\n",
    "df_norm.where(df.NAME == \"Cooper AIS883\").dropna().head()\n"
   ]
  },
  {
   "cell_type": "code",
   "execution_count": null,
   "id": "15231845",
   "metadata": {},
   "outputs": [
    {
     "name": "stdout",
     "output_type": "stream",
     "text": [
      "Nakita ZKF285, Bear QHM833, Boch TFV888\n"
     ]
    }
   ],
   "source": [
    "df_norm[\"SCORE\"] = (\n",
    "    df_norm[\"WIDTH_NORM\"] * 3 +\n",
    "    (1 - df_norm[\"PRICE_NORM\"]) * 7 +   \n",
    "    df_norm[\"POWER_NORM\"] * 8 +\n",
    "    df_norm[\"GRASS_NORM\"] * 1 +\n",
    "    df_norm[\"AREA_NORM\"] * 1\n",
    ")\n",
    "df_norm = df_norm.sort_values(by=\"SCORE\", ascending=False)\n",
    "top_lawnmowers = df_norm[[\"NAME\", \"SCORE\"]].head(3)\n",
    "print(\", \".join(top_lawnmowers.NAME.values))"
   ]
  }
 ],
 "metadata": {
  "kernelspec": {
   "display_name": ".venv",
   "language": "python",
   "name": "python3"
  },
  "language_info": {
   "codemirror_mode": {
    "name": "ipython",
    "version": 3
   },
   "file_extension": ".py",
   "mimetype": "text/x-python",
   "name": "python",
   "nbconvert_exporter": "python",
   "pygments_lexer": "ipython3",
   "version": "3.12.3"
  }
 },
 "nbformat": 4,
 "nbformat_minor": 5
}
